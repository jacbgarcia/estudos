{
  "nbformat": 4,
  "nbformat_minor": 0,
  "metadata": {
    "colab": {
      "provenance": []
    },
    "kernelspec": {
      "name": "python3",
      "display_name": "Python 3"
    },
    "language_info": {
      "name": "python"
    }
  },
  "cells": [
    {
      "cell_type": "code",
      "source": [
        "# UNINASSAU\n",
        "# DOCENTE: CLOVES ROCHA\n",
        "# ESTUDANTE: IDALICIO JACOB BORBA GARCIA\n",
        "# TIPOS PRIMITIVOS DE DADOS\n",
        "\n",
        "print(\"Olá Mundo!\")\n",
        "\n",
        "a = False\n",
        "b = True\n",
        "c = 10\n",
        "d = 1.0\n",
        "e = \"Jacob\"\n",
        "print(type(a),type(b),type(c),type(d),type(e))"
      ],
      "metadata": {
        "colab": {
          "base_uri": "https://localhost:8080/"
        },
        "id": "NeEru6b4duUi",
        "outputId": "f213ec06-143f-461c-a342-07c9f3efb614"
      },
      "execution_count": 24,
      "outputs": [
        {
          "output_type": "stream",
          "name": "stdout",
          "text": [
            "Olá Mundo!\n",
            "<class 'bool'> <class 'bool'> <class 'int'> <class 'float'> <class 'str'>\n"
          ]
        }
      ]
    }
  ]
}