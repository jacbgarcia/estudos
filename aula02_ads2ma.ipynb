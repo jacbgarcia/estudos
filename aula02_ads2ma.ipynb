{
  "nbformat": 4,
  "nbformat_minor": 0,
  "metadata": {
    "colab": {
      "provenance": [],
      "authorship_tag": "ABX9TyPXVnddP2DSvBLMgFBj1GZo",
      "include_colab_link": true
    },
    "kernelspec": {
      "name": "python3",
      "display_name": "Python 3"
    },
    "language_info": {
      "name": "python"
    }
  },
  "cells": [
    {
      "cell_type": "markdown",
      "metadata": {
        "id": "view-in-github",
        "colab_type": "text"
      },
      "source": [
        "<a href=\"https://colab.research.google.com/github/jacbgarcia/estudos/blob/main/aula02_ads2ma.ipynb\" target=\"_parent\"><img src=\"https://colab.research.google.com/assets/colab-badge.svg\" alt=\"Open In Colab\"/></a>"
      ]
    },
    {
      "cell_type": "code",
      "source": [
        "# UNINASSAU\n",
        "# DOCENTE: CLOVES ROCHA\n",
        "# ESTUDANTE: IDALICIO JACOB BORBA GARCIA\n",
        "# TIPOS PRIMITIVOS DE DADOS\n",
        "\n",
        "print(\"Olá Mundo!\")\n",
        "\n",
        "a = False\n",
        "b = True\n",
        "c = 10\n",
        "d = 1.0\n",
        "e = \"Jacob\"\n",
        "print(type(a),type(b),type(c),type(d),type(e))"
      ],
      "metadata": {
        "colab": {
          "base_uri": "https://localhost:8080/"
        },
        "id": "NeEru6b4duUi",
        "outputId": "f213ec06-143f-461c-a342-07c9f3efb614"
      },
      "execution_count": 24,
      "outputs": [
        {
          "output_type": "stream",
          "name": "stdout",
          "text": [
            "Olá Mundo!\n",
            "<class 'bool'> <class 'bool'> <class 'int'> <class 'float'> <class 'str'>\n"
          ]
        }
      ]
    }
  ]
}