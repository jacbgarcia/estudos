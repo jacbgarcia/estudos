{
  "nbformat": 4,
  "nbformat_minor": 0,
  "metadata": {
    "colab": {
      "provenance": [],
      "authorship_tag": "ABX9TyPqLyjPimyJkcMWrXjuY9ww",
      "include_colab_link": true
    },
    "kernelspec": {
      "name": "python3",
      "display_name": "Python 3"
    },
    "language_info": {
      "name": "python"
    }
  },
  "cells": [
    {
      "cell_type": "markdown",
      "metadata": {
        "id": "view-in-github",
        "colab_type": "text"
      },
      "source": [
        "<a href=\"https://colab.research.google.com/github/jacbgarcia/estudos/blob/main/ads2ma.ipynb\" target=\"_parent\"><img src=\"https://colab.research.google.com/assets/colab-badge.svg\" alt=\"Open In Colab\"/></a>"
      ]
    },
    {
      "cell_type": "code",
      "execution_count": null,
      "metadata": {
        "id": "5hwPlY-G5wmn"
      },
      "outputs": [],
      "source": [
        "#Disciplina: Desenvolvimento de aplicações para internet\n",
        "#Nome: Idalicio Jacob Borba Garcia\n",
        "#Matricula: 01594821"
      ]
    },
    {
      "cell_type": "code",
      "source": [
        "num = float(input('Digite um numero: '))\n",
        "if num > 0:\n",
        "  print('Este numero é positivo')\n",
        "elif num == 0:\n",
        "  print('Este numero é neutro')\n",
        "else:\n",
        "  print('Este numero é negativo')"
      ],
      "metadata": {
        "id": "7Hbfr4MO6S42"
      },
      "execution_count": null,
      "outputs": []
    },
    {
      "cell_type": "code",
      "source": [
        "#Operadores logicos:\n",
        "#and, or, not: Função range()\n",
        "#e os operadores in, not in.\n",
        "resposta = int(input('Qual é a sua idade: '))\n",
        "if resposta >= 18 and resposta <= 65:\n",
        "  print('Você é obrigado a votar!')\n",
        "else:\n",
        "  print('Você não é obrigado a votar!')"
      ],
      "metadata": {
        "id": "2wmDBZe-7cM7"
      },
      "execution_count": null,
      "outputs": []
    }
  ]
}