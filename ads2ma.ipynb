{
  "nbformat": 4,
  "nbformat_minor": 0,
  "metadata": {
    "colab": {
      "provenance": [],
      "authorship_tag": "ABX9TyMztdOO5w+9546N5FY2fRSG",
      "include_colab_link": true
    },
    "kernelspec": {
      "name": "python3",
      "display_name": "Python 3"
    },
    "language_info": {
      "name": "python"
    }
  },
  "cells": [
    {
      "cell_type": "markdown",
      "metadata": {
        "id": "view-in-github",
        "colab_type": "text"
      },
      "source": [
        "<a href=\"https://colab.research.google.com/github/jacbgarcia/estudos/blob/main/ads2ma.ipynb\" target=\"_parent\"><img src=\"https://colab.research.google.com/assets/colab-badge.svg\" alt=\"Open In Colab\"/></a>"
      ]
    },
    {
      "cell_type": "code",
      "execution_count": null,
      "metadata": {
        "id": "5hwPlY-G5wmn"
      },
      "outputs": [],
      "source": [
        "#Disciplina: Desenvolvimento de aplicações para internet\n",
        "#Nome: Idalicio Jacob Borba Garcia\n",
        "#Matricula: 01594821"
      ]
    },
    {
      "cell_type": "code",
      "source": [
        "num = float(input('Digite um numero: '))\n",
        "if num > 0:\n",
        "  print('Este numero é positivo')\n",
        "elif num == 0:\n",
        "  print('Este numero é neutro')\n",
        "else:\n",
        "  print('Este numero é negativo')"
      ],
      "metadata": {
        "id": "7Hbfr4MO6S42"
      },
      "execution_count": null,
      "outputs": []
    },
    {
      "cell_type": "code",
      "source": [
        "#Operadores logicos:\n",
        "#and, or, not: Função range()\n",
        "#e os operadores in, not in.\n",
        "resposta = int(input('Qual é a sua idade: '))\n",
        "if resposta >= 18 and resposta <= 65:\n",
        "  print('Você é obrigado a votar!')\n",
        "else:\n",
        "  print('Você não é obrigado a votar!')"
      ],
      "metadata": {
        "id": "2wmDBZe-7cM7"
      },
      "execution_count": null,
      "outputs": []
    },
    {
      "cell_type": "code",
      "source": [
        "print('1. Idoso.')\n",
        "print('2. Cadeirante.')\n",
        "print('3. Gestante.')\n",
        "print('4. Comum - PF')\n",
        "resposta = int(input('Você é: '))\n",
        "\n",
        "if (resposta == 1) or (resposta == 2) or (resposta == 3):\n",
        "  print('Você tem direito a fila prioritaria.')\n",
        "elif (resposta == 4):\n",
        "  print('Vá para a fila comum.')\n",
        "else:\n",
        "  print('Você NÃO tem direito a nada! Vá para a fila comum.')"
      ],
      "metadata": {
        "id": "ol-r6dSx9Flo"
      },
      "execution_count": null,
      "outputs": []
    },
    {
      "cell_type": "code",
      "source": [
        "#Operador not\n",
        "a = 4\n",
        "b = 2\n",
        "print(not a < b)"
      ],
      "metadata": {
        "id": "IqMWH-Qc_acu"
      },
      "execution_count": null,
      "outputs": []
    },
    {
      "cell_type": "code",
      "source": [
        "banda = str(input('Qual melhor banda do mundo? '))\n",
        "if not banda == 'DT' and not banda == 'dt':\n",
        "  print('Errado!')\n",
        "else:\n",
        "  print('Correto, é DT!')"
      ],
      "metadata": {
        "id": "YMFq7Krk_rAF"
      },
      "execution_count": null,
      "outputs": []
    },
    {
      "cell_type": "code",
      "source": [
        "#Função range\n",
        "r = int(input('Digite um numero: '))\n",
        "if r in range(1,300):\n",
        "  print(f'{r} está entre 1 e 300.')\n",
        "else:\n",
        "  print(f'{r} não está entre 1 e 300.')"
      ],
      "metadata": {
        "id": "ox-j9z2uBLOj"
      },
      "execution_count": null,
      "outputs": []
    },
    {
      "cell_type": "code",
      "source": [
        "#Um pouco de álgebra linear\n",
        "imc = [1.81, #altura\n",
        "       100, #peso\n",
        "       40,  #idade\n",
        "       ]\n",
        "print(imc)\n",
        "#exercicio imc"
      ],
      "metadata": {
        "id": "poeofQ4LCcjX"
      },
      "execution_count": null,
      "outputs": []
    },
    {
      "cell_type": "code",
      "source": [
        "notas = [10, #nota 1\n",
        "          9, #nota 2\n",
        "          8, #nota 3\n",
        "         ]\n",
        "print(notas)\n",
        "#exercicio: fazer media do vetor de notas."
      ],
      "metadata": {
        "id": "eql1UvTTD4Hr"
      },
      "execution_count": null,
      "outputs": []
    },
    {
      "cell_type": "code",
      "source": [],
      "metadata": {
        "id": "lYpQ_-M1Ee3S"
      },
      "execution_count": null,
      "outputs": []
    }
  ]
}